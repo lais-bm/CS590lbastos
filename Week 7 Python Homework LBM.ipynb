{
 "cells": [
  {
   "cell_type": "code",
   "execution_count": 1,
   "metadata": {},
   "outputs": [],
   "source": [
    "import pandas as pd\n",
    "import numpy as np"
   ]
  },
  {
   "cell_type": "code",
   "execution_count": 3,
   "metadata": {},
   "outputs": [
    {
     "name": "stdout",
     "output_type": "stream",
     "text": [
      "WELCOME TO GUESS ME!\n",
      "I'm thinking of a number between 1 and 100...\n",
      "If your guess is more than 10 away from my number, I'll tell you you're COLD\n",
      "If your guess is within 10 of my number, I'll tell you you're WARM\n",
      "If your guess is farther than your most recent guess, I'll say you're getting COLDER\n",
      "If your guess is closer than your most recent guess, I'll say you're getting WARMER\n",
      "LET'S PLAY!\n",
      "Guess a number between 1 and 100.\n",
      " What is your guess?70\n",
      "cold\n",
      "Guess a number between 1 and 100.\n",
      " What is your guess?90\n",
      "warmer\n",
      "Guess a number between 1 and 100.\n",
      " What is your guess?85\n",
      "colder\n",
      "Guess a number between 1 and 100.\n",
      " What is your guess?95\n",
      "colder\n",
      "Guess a number between 1 and 100.\n",
      " What is your guess?84\n",
      "GONGRATULATION! You guessed it in only 5 guesses\n"
     ]
    }
   ],
   "source": [
    "print(\"WELCOME TO GUESS ME!\")\n",
    "print(\"I'm thinking of a number between 1 and 100...\")\n",
    "print(\"If your guess is more than 10 away from my number, I'll tell you you're COLD\")\n",
    "print(\"If your guess is within 10 of my number, I'll tell you you're WARM\")\n",
    "print(\"If your guess is farther than your most recent guess, I'll say you're getting COLDER\")\n",
    "print(\"If your guess is closer than your most recent guess, I'll say you're getting WARMER\")\n",
    "print(\"LET'S PLAY!\")\n",
    "\n",
    "import random\n",
    "\n",
    "num = random.randint(1,100)\n",
    "num\n",
    "guesses = [0]\n",
    "\n",
    "\n",
    "while True: \n",
    "    \n",
    "    guess=int(input('Guess a number between 1 and 100.\\n What is your guess?'))\n",
    "    \n",
    "    if guess<1 or guess>100:\n",
    "        print('Out of bounds, try again')\n",
    "        continue\n",
    "    if guess==num:\n",
    "        print('GONGRATULATION! You guessed it in only %s guesses'%(len(guesses)))\n",
    "        break\n",
    "    guesses.append(guess)\n",
    "    \n",
    "    if guesses[-2]:\n",
    "        if abs(num-guess) <(num-guesses[-2]):\n",
    "            print('warmer')\n",
    "        else:\n",
    "            print('colder')\n",
    "        \n",
    "    else:\n",
    "        if abs(num-guess) <=10:\n",
    "            print('warm')\n",
    "        else:\n",
    "            print('cold')"
   ]
  },
  {
   "cell_type": "code",
   "execution_count": null,
   "metadata": {},
   "outputs": [],
   "source": []
  }
 ],
 "metadata": {
  "kernelspec": {
   "display_name": "Python 3",
   "language": "python",
   "name": "python3"
  },
  "language_info": {
   "codemirror_mode": {
    "name": "ipython",
    "version": 3
   },
   "file_extension": ".py",
   "mimetype": "text/x-python",
   "name": "python",
   "nbconvert_exporter": "python",
   "pygments_lexer": "ipython3",
   "version": "3.7.3"
  }
 },
 "nbformat": 4,
 "nbformat_minor": 2
}
