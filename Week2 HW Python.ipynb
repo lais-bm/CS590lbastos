{
 "cells": [
  {
   "cell_type": "code",
   "execution_count": 3,
   "metadata": {},
   "outputs": [
    {
     "data": {
      "text/plain": [
       "216"
      ]
     },
     "execution_count": 3,
     "metadata": {},
     "output_type": "execute_result"
    }
   ],
   "source": [
    "6**3"
   ]
  },
  {
   "cell_type": "code",
   "execution_count": 4,
   "metadata": {},
   "outputs": [],
   "source": [
    "peanut_weight = [89.4, 78.2, 91.4, 95.2, 105.5]"
   ]
  },
  {
   "cell_type": "code",
   "execution_count": 5,
   "metadata": {},
   "outputs": [
    {
     "name": "stdout",
     "output_type": "stream",
     "text": [
      "[89.4, 78.2, 91.4, 95.2, 105.5]\n"
     ]
    }
   ],
   "source": [
    "print(peanut_weight)"
   ]
  },
  {
   "cell_type": "code",
   "execution_count": 6,
   "metadata": {},
   "outputs": [
    {
     "data": {
      "text/plain": [
       "[89.4, 91.4, 105.5]"
      ]
     },
     "execution_count": 6,
     "metadata": {},
     "output_type": "execute_result"
    }
   ],
   "source": [
    "peanut_weight[0::2]"
   ]
  },
  {
   "cell_type": "code",
   "execution_count": 16,
   "metadata": {},
   "outputs": [
    {
     "data": {
      "text/plain": [
       "['Sullivan', 'Bailey', 'Bailey II', 'Emery', 'Wynne']"
      ]
     },
     "execution_count": 16,
     "metadata": {},
     "output_type": "execute_result"
    }
   ],
   "source": [
    "peanut_all={\"Sullivan\":89.4, \"Bailey\":78.2, \"Bailey II\":91.4, \"Emery\":95.2, \"Wynne\":105.5}\n",
    "#unsing zip\n",
    "peanut_name=[\"Sullivan\", \"Bailey\", \"Bailey II\", \"Emery\", \"Wynne\"]\n",
    "peanut_name\n"
   ]
  },
  {
   "cell_type": "code",
   "execution_count": 22,
   "metadata": {},
   "outputs": [
    {
     "data": {
      "text/plain": [
       "{89.4: 'Sullivan',\n",
       " 78.2: 'Bailey',\n",
       " 91.4: 'Bailey II',\n",
       " 95.2: 'Emery',\n",
       " 105.5: 'Wynne'}"
      ]
     },
     "execution_count": 22,
     "metadata": {},
     "output_type": "execute_result"
    }
   ],
   "source": [
    "zip_list=zip(peanut_weight,peanut_name)\n",
    "peanuts=dict(zip_list)\n",
    "peanuts"
   ]
  },
  {
   "cell_type": "code",
   "execution_count": 23,
   "metadata": {},
   "outputs": [
    {
     "data": {
      "text/plain": [
       "(105.5, 'Wynne')"
      ]
     },
     "execution_count": 23,
     "metadata": {},
     "output_type": "execute_result"
    }
   ],
   "source": [
    "max(peanuts.items())#need to add the .items"
   ]
  },
  {
   "cell_type": "code",
   "execution_count": 24,
   "metadata": {},
   "outputs": [
    {
     "data": {
      "text/plain": [
       "('Wynne', 105.5)"
      ]
     },
     "execution_count": 24,
     "metadata": {},
     "output_type": "execute_result"
    }
   ],
   "source": [
    "max(peanut_all.items())#need to add the .items"
   ]
  },
  {
   "cell_type": "code",
   "execution_count": 19,
   "metadata": {},
   "outputs": [],
   "source": [
    "cultivar='Wynne'\n",
    "Size=105.5"
   ]
  },
  {
   "cell_type": "code",
   "execution_count": 20,
   "metadata": {},
   "outputs": [
    {
     "name": "stdout",
     "output_type": "stream",
     "text": [
      "Wynne id the largest cultivar weighing 105.5 grams per 100 seeds\n"
     ]
    }
   ],
   "source": [
    "print(\"%s is the largest cultivar weighing %s grams per 100 seeds\"%(cultivar,Size))"
   ]
  }
 ],
 "metadata": {
  "kernelspec": {
   "display_name": "Python 3",
   "language": "python",
   "name": "python3"
  },
  "language_info": {
   "codemirror_mode": {
    "name": "ipython",
    "version": 3
   },
   "file_extension": ".py",
   "mimetype": "text/x-python",
   "name": "python",
   "nbconvert_exporter": "python",
   "pygments_lexer": "ipython3",
   "version": "3.7.3"
  }
 },
 "nbformat": 4,
 "nbformat_minor": 2
}
